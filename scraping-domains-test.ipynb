{
 "cells": [
  {
   "cell_type": "markdown",
   "metadata": {},
   "source": [
    "## Scraping Domains\n",
    "This task was given after an interview to evaluate technical skills\n",
    "\n",
    "The main objective is to scrape a list of 10k domains and match them with a database of companies info."
   ]
  },
  {
   "cell_type": "code",
   "execution_count": 2,
   "metadata": {},
   "outputs": [],
   "source": [
    "import re\n",
    "import os\n",
    "import pandas as pd\n",
    "from fuzzywuzzy import fuzz\n",
    "from fuzzywuzzy import process"
   ]
  },
  {
   "cell_type": "markdown",
   "metadata": {},
   "source": [
    "Read Domains csv to a pandas DF"
   ]
  },
  {
   "cell_type": "code",
   "execution_count": 4,
   "metadata": {},
   "outputs": [
    {
     "data": {
      "text/html": [
       "<div>\n",
       "<style scoped>\n",
       "    .dataframe tbody tr th:only-of-type {\n",
       "        vertical-align: middle;\n",
       "    }\n",
       "\n",
       "    .dataframe tbody tr th {\n",
       "        vertical-align: top;\n",
       "    }\n",
       "\n",
       "    .dataframe thead th {\n",
       "        text-align: right;\n",
       "    }\n",
       "</style>\n",
       "<table border=\"1\" class=\"dataframe\">\n",
       "  <thead>\n",
       "    <tr style=\"text-align: right;\">\n",
       "      <th></th>\n",
       "      <th>domain</th>\n",
       "    </tr>\n",
       "  </thead>\n",
       "  <tbody>\n",
       "    <tr>\n",
       "      <th>0</th>\n",
       "      <td>issos.nl</td>\n",
       "    </tr>\n",
       "    <tr>\n",
       "      <th>1</th>\n",
       "      <td>beeldenbouwers.nl</td>\n",
       "    </tr>\n",
       "    <tr>\n",
       "      <th>2</th>\n",
       "      <td>janbuisbaarn.nl</td>\n",
       "    </tr>\n",
       "    <tr>\n",
       "      <th>3</th>\n",
       "      <td>wilkbeglazing.nl</td>\n",
       "    </tr>\n",
       "    <tr>\n",
       "      <th>4</th>\n",
       "      <td>sjerpstuinen.nl</td>\n",
       "    </tr>\n",
       "  </tbody>\n",
       "</table>\n",
       "</div>"
      ],
      "text/plain": [
       "              domain\n",
       "0           issos.nl\n",
       "1  beeldenbouwers.nl\n",
       "2    janbuisbaarn.nl\n",
       "3   wilkbeglazing.nl\n",
       "4    sjerpstuinen.nl"
      ]
     },
     "execution_count": 4,
     "metadata": {},
     "output_type": "execute_result"
    }
   ],
   "source": [
    "domains_df = pd.read_csv('domains.csv', header=0, delimiter=',')\n",
    "domains_df.head()"
   ]
  },
  {
   "cell_type": "markdown",
   "metadata": {},
   "source": [
    "Pandas Df to a list of lists, each element is a row of the DF"
   ]
  },
  {
   "cell_type": "code",
   "execution_count": 5,
   "metadata": {},
   "outputs": [
    {
     "data": {
      "text/plain": [
       "[['issos.nl'], ['beeldenbouwers.nl']]"
      ]
     },
     "execution_count": 5,
     "metadata": {},
     "output_type": "execute_result"
    }
   ],
   "source": [
    "domains_list = domains_df.values.tolist()\n",
    "domains_list[:2]"
   ]
  },
  {
   "cell_type": "markdown",
   "metadata": {},
   "source": [
    "Read Companies csv to a DF"
   ]
  },
  {
   "cell_type": "code",
   "execution_count": 18,
   "metadata": {},
   "outputs": [
    {
     "data": {
      "text/html": [
       "<div>\n",
       "<style scoped>\n",
       "    .dataframe tbody tr th:only-of-type {\n",
       "        vertical-align: middle;\n",
       "    }\n",
       "\n",
       "    .dataframe tbody tr th {\n",
       "        vertical-align: top;\n",
       "    }\n",
       "\n",
       "    .dataframe thead th {\n",
       "        text-align: right;\n",
       "    }\n",
       "</style>\n",
       "<table border=\"1\" class=\"dataframe\">\n",
       "  <thead>\n",
       "    <tr style=\"text-align: right;\">\n",
       "      <th></th>\n",
       "      <th>address1</th>\n",
       "      <th>city</th>\n",
       "      <th>postal_code</th>\n",
       "      <th>country</th>\n",
       "      <th>founding_date</th>\n",
       "      <th>name</th>\n",
       "      <th>company_number</th>\n",
       "      <th>phone_number</th>\n",
       "      <th>unique_id</th>\n",
       "    </tr>\n",
       "  </thead>\n",
       "  <tbody>\n",
       "    <tr>\n",
       "      <th>0</th>\n",
       "      <td>Synagogeplantsoen 64</td>\n",
       "      <td>Meerssen</td>\n",
       "      <td>6231KK</td>\n",
       "      <td>NL</td>\n",
       "      <td>2008-01-01</td>\n",
       "      <td>Eigen Kracht</td>\n",
       "      <td>14098137</td>\n",
       "      <td>+31433640535</td>\n",
       "      <td>600121816</td>\n",
       "    </tr>\n",
       "    <tr>\n",
       "      <th>1</th>\n",
       "      <td>Nieuwkerk 2</td>\n",
       "      <td>Goirle</td>\n",
       "      <td>5051PN</td>\n",
       "      <td>NL</td>\n",
       "      <td>2013-01-01</td>\n",
       "      <td>Klooster Nieuwkerk Goirle B.V.</td>\n",
       "      <td>57677174</td>\n",
       "      <td>+31135302510</td>\n",
       "      <td>602107256</td>\n",
       "    </tr>\n",
       "    <tr>\n",
       "      <th>2</th>\n",
       "      <td>'t Hambroek 16</td>\n",
       "      <td>Borculo</td>\n",
       "      <td>7271HA</td>\n",
       "      <td>NL</td>\n",
       "      <td>2001-01-01</td>\n",
       "      <td>Adfistro</td>\n",
       "      <td>08097700</td>\n",
       "      <td>+31545274166</td>\n",
       "      <td>517367866</td>\n",
       "    </tr>\n",
       "    <tr>\n",
       "      <th>3</th>\n",
       "      <td>Venrayseweg 4</td>\n",
       "      <td>Wanssum</td>\n",
       "      <td>5861BD</td>\n",
       "      <td>NL</td>\n",
       "      <td>2008-01-01</td>\n",
       "      <td>Skymeubel V.O.F.</td>\n",
       "      <td>14104757</td>\n",
       "      <td>NaN</td>\n",
       "      <td>600288132</td>\n",
       "    </tr>\n",
       "    <tr>\n",
       "      <th>4</th>\n",
       "      <td>Van Eedenstraat 9</td>\n",
       "      <td>Haarlem</td>\n",
       "      <td>2012EL</td>\n",
       "      <td>NL</td>\n",
       "      <td>2021-01-01</td>\n",
       "      <td>Oass B.V.</td>\n",
       "      <td>81827660</td>\n",
       "      <td>+31235311077</td>\n",
       "      <td>604825839</td>\n",
       "    </tr>\n",
       "  </tbody>\n",
       "</table>\n",
       "</div>"
      ],
      "text/plain": [
       "               address1      city postal_code country founding_date  \\\n",
       "0  Synagogeplantsoen 64  Meerssen      6231KK      NL    2008-01-01   \n",
       "1           Nieuwkerk 2    Goirle      5051PN      NL    2013-01-01   \n",
       "2        't Hambroek 16   Borculo      7271HA      NL    2001-01-01   \n",
       "3         Venrayseweg 4   Wanssum      5861BD      NL    2008-01-01   \n",
       "4     Van Eedenstraat 9   Haarlem      2012EL      NL    2021-01-01   \n",
       "\n",
       "                             name company_number  phone_number  unique_id  \n",
       "0                    Eigen Kracht       14098137  +31433640535  600121816  \n",
       "1  Klooster Nieuwkerk Goirle B.V.       57677174  +31135302510  602107256  \n",
       "2                        Adfistro       08097700  +31545274166  517367866  \n",
       "3                Skymeubel V.O.F.       14104757           NaN  600288132  \n",
       "4                       Oass B.V.       81827660  +31235311077  604825839  "
      ]
     },
     "execution_count": 18,
     "metadata": {},
     "output_type": "execute_result"
    }
   ],
   "source": [
    "companies_df = pd.read_csv('companies.csv', header=0, delimiter=',')\n",
    "companies_df.head()"
   ]
  },
  {
   "cell_type": "markdown",
   "metadata": {},
   "source": [
    "After setting up the scrapy tutorial and testing the library along with some domains examples it is clear that not all domains have the full company data in their main page. Additionaly the format of the domains HTML page is often different and cues using the html code, like used in the scrapy tutorial, are impossible to use when extracting for all domains.\n",
    "\n",
    "For example:  \n",
    "\"footer_content = response.css('div.w-layout-grid.main-grid.footer *::text').getall()\" - this only works if the footer has this specific div hierarchy found for the https://issos.nl domain\n",
    "\n",
    "\n",
    "Unique info that can be used to match domains with companies seems to be \n",
    "- **phone number**\n",
    "- **company number**\n",
    "- **name**\n",
    "- **address** ?\n",
    "\n",
    "Companies could share city, postal code, country, founding date, so unusable for unique identifiers, maybe address can be used?\n",
    "\n",
    "From very small tests, its very common that the main page includes phone number, some contain the company number as well, and the name of the company can also be found usually in the main page, but hard to extract it as no regular expression can be made for it."
   ]
  },
  {
   "cell_type": "markdown",
   "metadata": {},
   "source": [
    "### PCA analysis on the companies database"
   ]
  },
  {
   "cell_type": "code",
   "execution_count": 21,
   "metadata": {},
   "outputs": [],
   "source": [
    "def nan_ratio(df, df_name):\n",
    "    \"\"\"Calculate the ratio of NAN rows in a datasets columns\n",
    "    Args: \n",
    "        df - dataframe\n",
    "        df_name - string, name of the dataset for the print\n",
    "    \"\"\"\n",
    "    \n",
    "    print(f'Missing data ratio in {df_name}:\\n')\n",
    "    df_nan_ratio = df.isna().sum() / len(df) * 100\n",
    "    df_nan_ratio.sort_values(ascending=False,inplace=True)\n",
    "    df_nan_ratio = df_nan_ratio.to_frame(name='Nan Ratio %').T\n",
    "    display(df_nan_ratio)"
   ]
  },
  {
   "cell_type": "code",
   "execution_count": 68,
   "metadata": {},
   "outputs": [
    {
     "name": "stdout",
     "output_type": "stream",
     "text": [
      "Missing data ratio in Companies:\n",
      "\n"
     ]
    },
    {
     "data": {
      "text/html": [
       "<div>\n",
       "<style scoped>\n",
       "    .dataframe tbody tr th:only-of-type {\n",
       "        vertical-align: middle;\n",
       "    }\n",
       "\n",
       "    .dataframe tbody tr th {\n",
       "        vertical-align: top;\n",
       "    }\n",
       "\n",
       "    .dataframe thead th {\n",
       "        text-align: right;\n",
       "    }\n",
       "</style>\n",
       "<table border=\"1\" class=\"dataframe\">\n",
       "  <thead>\n",
       "    <tr style=\"text-align: right;\">\n",
       "      <th></th>\n",
       "      <th>phone_number</th>\n",
       "      <th>company_number</th>\n",
       "      <th>founding_date</th>\n",
       "      <th>city</th>\n",
       "      <th>postal_code</th>\n",
       "      <th>address1</th>\n",
       "      <th>country</th>\n",
       "      <th>name</th>\n",
       "      <th>unique_id</th>\n",
       "    </tr>\n",
       "  </thead>\n",
       "  <tbody>\n",
       "    <tr>\n",
       "      <th>Nan Ratio %</th>\n",
       "      <td>36.16</td>\n",
       "      <td>2.4</td>\n",
       "      <td>0.29</td>\n",
       "      <td>0.02</td>\n",
       "      <td>0.01</td>\n",
       "      <td>0.0</td>\n",
       "      <td>0.0</td>\n",
       "      <td>0.0</td>\n",
       "      <td>0.0</td>\n",
       "    </tr>\n",
       "  </tbody>\n",
       "</table>\n",
       "</div>"
      ],
      "text/plain": [
       "             phone_number  company_number  founding_date  city  postal_code  \\\n",
       "Nan Ratio %         36.16             2.4           0.29  0.02         0.01   \n",
       "\n",
       "             address1  country  name  unique_id  \n",
       "Nan Ratio %       0.0      0.0   0.0        0.0  "
      ]
     },
     "metadata": {},
     "output_type": "display_data"
    }
   ],
   "source": [
    "nan_ratio(companies_df, 'Companies')"
   ]
  },
  {
   "cell_type": "markdown",
   "metadata": {},
   "source": [
    "**Phone number** is missing in 36% of the data, this is terrible as its the easiest data to extract with scrapy. **Company number** also has 2.4% missing data, from unique ids it seems only **address** and **name** are complete"
   ]
  },
  {
   "cell_type": "code",
   "execution_count": 69,
   "metadata": {},
   "outputs": [],
   "source": [
    "def nan_ratio_multi_cols(df, df_name, cols):\n",
    "    \"\"\"Calculate the ratio of NAN rows in both columns a dataset\n",
    "    Args: \n",
    "        df - dataframe\n",
    "        df_name - string, name of the dataset for the print\n",
    "        cols - list of cols to consider null together\n",
    "    \"\"\"\n",
    "\n",
    "    nan_check = df[cols].isna()\n",
    "    both_nan = nan_check.all(axis=1)\n",
    "    df_nan_ratio = both_nan.sum() / len(df) * 100\n",
    "\n",
    "    print(f'Ratio of rows where \"{'\" and \"'.join(cols)}\" are Nan: {float(df_nan_ratio)} for dataset \"{df_name}\"')  "
   ]
  },
  {
   "cell_type": "code",
   "execution_count": 70,
   "metadata": {},
   "outputs": [
    {
     "name": "stdout",
     "output_type": "stream",
     "text": [
      "Ratio of rows where \"phone_number\" and \"company_number\" are Nan: 0.12 for dataset \"Companies\"\n"
     ]
    }
   ],
   "source": [
    "cols = ['phone_number', 'company_number']\n",
    "nan_ratio_multi_cols(companies_df, 'Companies', cols)"
   ]
  },
  {
   "cell_type": "markdown",
   "metadata": {},
   "source": [
    "This means phone number and company number columns alone cant be used to match all companies, address must be used."
   ]
  },
  {
   "cell_type": "markdown",
   "metadata": {},
   "source": [
    "Checking for uniqueness of identifier columns"
   ]
  },
  {
   "cell_type": "code",
   "execution_count": 124,
   "metadata": {},
   "outputs": [],
   "source": [
    "def unique_ratio(df, df_name):\n",
    "    \"\"\"Calculate the ratio of unique rows in a datasets columns, excluding Nan\n",
    "    Args: \n",
    "        df - dataframe\n",
    "        df_name - string, name of the dataset for the print\n",
    "    \"\"\"\n",
    "    \n",
    "    print(f'Unique data ratio in {df_name}:\\n')\n",
    "    companies_df.dropna(inplace=True)\n",
    "    dict_unique_ratio = {col: companies_df[col].nunique() / len(companies_df) * 100 for col in companies_df.columns}\n",
    "    df_unique_ratio = pd.DataFrame(dict_unique_ratio, index=['Unique Ratio']).T\n",
    "    df_unique_ratio.sort_values(by='Unique Ratio', ascending=False, inplace=True)\n",
    "    display(df_unique_ratio.T)"
   ]
  },
  {
   "cell_type": "code",
   "execution_count": 125,
   "metadata": {},
   "outputs": [
    {
     "name": "stdout",
     "output_type": "stream",
     "text": [
      "Unique data ratio in Companies:\n",
      "\n"
     ]
    },
    {
     "data": {
      "text/html": [
       "<div>\n",
       "<style scoped>\n",
       "    .dataframe tbody tr th:only-of-type {\n",
       "        vertical-align: middle;\n",
       "    }\n",
       "\n",
       "    .dataframe tbody tr th {\n",
       "        vertical-align: top;\n",
       "    }\n",
       "\n",
       "    .dataframe thead th {\n",
       "        text-align: right;\n",
       "    }\n",
       "</style>\n",
       "<table border=\"1\" class=\"dataframe\">\n",
       "  <thead>\n",
       "    <tr style=\"text-align: right;\">\n",
       "      <th></th>\n",
       "      <th>unique_id</th>\n",
       "      <th>company_number</th>\n",
       "      <th>name</th>\n",
       "      <th>phone_number</th>\n",
       "      <th>address1</th>\n",
       "      <th>postal_code</th>\n",
       "      <th>city</th>\n",
       "      <th>founding_date</th>\n",
       "      <th>country</th>\n",
       "    </tr>\n",
       "  </thead>\n",
       "  <tbody>\n",
       "    <tr>\n",
       "      <th>Unique Ratio</th>\n",
       "      <td>100.0</td>\n",
       "      <td>100.0</td>\n",
       "      <td>99.934938</td>\n",
       "      <td>99.756018</td>\n",
       "      <td>98.503578</td>\n",
       "      <td>93.038386</td>\n",
       "      <td>19.795055</td>\n",
       "      <td>1.951854</td>\n",
       "      <td>0.162655</td>\n",
       "    </tr>\n",
       "  </tbody>\n",
       "</table>\n",
       "</div>"
      ],
      "text/plain": [
       "              unique_id  company_number       name  phone_number   address1  \\\n",
       "Unique Ratio      100.0           100.0  99.934938     99.756018  98.503578   \n",
       "\n",
       "              postal_code       city  founding_date   country  \n",
       "Unique Ratio    93.038386  19.795055       1.951854  0.162655  "
      ]
     },
     "metadata": {},
     "output_type": "display_data"
    }
   ],
   "source": [
    "unique_ratio(companies_df, 'Companies')"
   ]
  },
  {
   "cell_type": "markdown",
   "metadata": {},
   "source": [
    "Only **Company number** is 100% unique in the data set, seems that **name**, **phone number** and **address** have some duplicates, but a very small percentage less than 1"
   ]
  },
  {
   "cell_type": "code",
   "execution_count": 126,
   "metadata": {},
   "outputs": [
    {
     "data": {
      "text/html": [
       "<div>\n",
       "<style scoped>\n",
       "    .dataframe tbody tr th:only-of-type {\n",
       "        vertical-align: middle;\n",
       "    }\n",
       "\n",
       "    .dataframe tbody tr th {\n",
       "        vertical-align: top;\n",
       "    }\n",
       "\n",
       "    .dataframe thead th {\n",
       "        text-align: right;\n",
       "    }\n",
       "</style>\n",
       "<table border=\"1\" class=\"dataframe\">\n",
       "  <thead>\n",
       "    <tr style=\"text-align: right;\">\n",
       "      <th></th>\n",
       "      <th>address1</th>\n",
       "      <th>city</th>\n",
       "      <th>postal_code</th>\n",
       "      <th>country</th>\n",
       "      <th>founding_date</th>\n",
       "      <th>name</th>\n",
       "      <th>company_number</th>\n",
       "      <th>phone_number</th>\n",
       "      <th>unique_id</th>\n",
       "    </tr>\n",
       "  </thead>\n",
       "  <tbody>\n",
       "  </tbody>\n",
       "</table>\n",
       "</div>"
      ],
      "text/plain": [
       "Empty DataFrame\n",
       "Columns: [address1, city, postal_code, country, founding_date, name, company_number, phone_number, unique_id]\n",
       "Index: []"
      ]
     },
     "execution_count": 126,
     "metadata": {},
     "output_type": "execute_result"
    }
   ],
   "source": [
    "duplicates = companies_df[companies_df.duplicated(keep=False)]\n",
    "duplicates"
   ]
  },
  {
   "cell_type": "markdown",
   "metadata": {},
   "source": [
    "There are no rows completely duplicated"
   ]
  },
  {
   "cell_type": "code",
   "execution_count": 132,
   "metadata": {},
   "outputs": [
    {
     "data": {
      "text/html": [
       "<div>\n",
       "<style scoped>\n",
       "    .dataframe tbody tr th:only-of-type {\n",
       "        vertical-align: middle;\n",
       "    }\n",
       "\n",
       "    .dataframe tbody tr th {\n",
       "        vertical-align: top;\n",
       "    }\n",
       "\n",
       "    .dataframe thead th {\n",
       "        text-align: right;\n",
       "    }\n",
       "</style>\n",
       "<table border=\"1\" class=\"dataframe\">\n",
       "  <thead>\n",
       "    <tr style=\"text-align: right;\">\n",
       "      <th></th>\n",
       "      <th>address1</th>\n",
       "      <th>city</th>\n",
       "      <th>postal_code</th>\n",
       "      <th>country</th>\n",
       "      <th>founding_date</th>\n",
       "      <th>name</th>\n",
       "      <th>company_number</th>\n",
       "      <th>phone_number</th>\n",
       "      <th>unique_id</th>\n",
       "    </tr>\n",
       "  </thead>\n",
       "  <tbody>\n",
       "    <tr>\n",
       "      <th>937</th>\n",
       "      <td>Watervalweg 143</td>\n",
       "      <td>Ermelo</td>\n",
       "      <td>3851VB</td>\n",
       "      <td>NL</td>\n",
       "      <td>2001-01-01</td>\n",
       "      <td>Baron B.V.</td>\n",
       "      <td>08100543</td>\n",
       "      <td>+31341361552</td>\n",
       "      <td>517775499</td>\n",
       "    </tr>\n",
       "    <tr>\n",
       "      <th>4185</th>\n",
       "      <td>Kromstraat 80</td>\n",
       "      <td>Oss</td>\n",
       "      <td>5345AD</td>\n",
       "      <td>NL</td>\n",
       "      <td>1999-01-01</td>\n",
       "      <td>Baron B.V.</td>\n",
       "      <td>17117541</td>\n",
       "      <td>+31412627426</td>\n",
       "      <td>515120218</td>\n",
       "    </tr>\n",
       "    <tr>\n",
       "      <th>540</th>\n",
       "      <td>Koxkampseweg 10</td>\n",
       "      <td>Zaltbommel</td>\n",
       "      <td>5301KK</td>\n",
       "      <td>NL</td>\n",
       "      <td>2020-01-01</td>\n",
       "      <td>Duran B.V.</td>\n",
       "      <td>11026447</td>\n",
       "      <td>+31418515583</td>\n",
       "      <td>528854246</td>\n",
       "    </tr>\n",
       "    <tr>\n",
       "      <th>4715</th>\n",
       "      <td>Gessel 56</td>\n",
       "      <td>De Meern</td>\n",
       "      <td>3454MZ</td>\n",
       "      <td>NL</td>\n",
       "      <td>2013-01-01</td>\n",
       "      <td>Duran B.V.</td>\n",
       "      <td>57822239</td>\n",
       "      <td>+31306304444</td>\n",
       "      <td>602124926</td>\n",
       "    </tr>\n",
       "    <tr>\n",
       "      <th>11</th>\n",
       "      <td>Joop van Weezelhof 7</td>\n",
       "      <td>Amsterdam</td>\n",
       "      <td>1063MK</td>\n",
       "      <td>NL</td>\n",
       "      <td>1986-01-01</td>\n",
       "      <td>Holland &amp; Barrett B.V.</td>\n",
       "      <td>16829476</td>\n",
       "      <td>+31206144866</td>\n",
       "      <td>516149604</td>\n",
       "    </tr>\n",
       "    <tr>\n",
       "      <th>8643</th>\n",
       "      <td>Roelantdreef 241</td>\n",
       "      <td>Utrecht</td>\n",
       "      <td>3562KH</td>\n",
       "      <td>NL</td>\n",
       "      <td>1986-01-01</td>\n",
       "      <td>Holland &amp; Barrett B.V.</td>\n",
       "      <td>16829239</td>\n",
       "      <td>+31302628954</td>\n",
       "      <td>529818513</td>\n",
       "    </tr>\n",
       "    <tr>\n",
       "      <th>2422</th>\n",
       "      <td>Grote Haven 2 D</td>\n",
       "      <td>Haastrecht</td>\n",
       "      <td>2851BM</td>\n",
       "      <td>NL</td>\n",
       "      <td>2015-01-01</td>\n",
       "      <td>Regionale Dienst Openbare Gezondheidszorg Holl...</td>\n",
       "      <td>31370454</td>\n",
       "      <td>+31182501349</td>\n",
       "      <td>602676376</td>\n",
       "    </tr>\n",
       "    <tr>\n",
       "      <th>6487</th>\n",
       "      <td>Oranjeplaats 1 Unit A</td>\n",
       "      <td>Schoonhoven</td>\n",
       "      <td>2871TK</td>\n",
       "      <td>NL</td>\n",
       "      <td>2012-01-01</td>\n",
       "      <td>Regionale Dienst Openbare Gezondheidszorg Holl...</td>\n",
       "      <td>25332147</td>\n",
       "      <td>+31883083125</td>\n",
       "      <td>601685563</td>\n",
       "    </tr>\n",
       "  </tbody>\n",
       "</table>\n",
       "</div>"
      ],
      "text/plain": [
       "                   address1         city postal_code country founding_date  \\\n",
       "937         Watervalweg 143       Ermelo      3851VB      NL    2001-01-01   \n",
       "4185          Kromstraat 80          Oss      5345AD      NL    1999-01-01   \n",
       "540         Koxkampseweg 10   Zaltbommel      5301KK      NL    2020-01-01   \n",
       "4715              Gessel 56     De Meern      3454MZ      NL    2013-01-01   \n",
       "11     Joop van Weezelhof 7    Amsterdam      1063MK      NL    1986-01-01   \n",
       "8643       Roelantdreef 241      Utrecht      3562KH      NL    1986-01-01   \n",
       "2422        Grote Haven 2 D   Haastrecht      2851BM      NL    2015-01-01   \n",
       "6487  Oranjeplaats 1 Unit A  Schoonhoven      2871TK      NL    2012-01-01   \n",
       "\n",
       "                                                   name company_number  \\\n",
       "937                                          Baron B.V.       08100543   \n",
       "4185                                         Baron B.V.       17117541   \n",
       "540                                          Duran B.V.       11026447   \n",
       "4715                                         Duran B.V.       57822239   \n",
       "11                               Holland & Barrett B.V.       16829476   \n",
       "8643                             Holland & Barrett B.V.       16829239   \n",
       "2422  Regionale Dienst Openbare Gezondheidszorg Holl...       31370454   \n",
       "6487  Regionale Dienst Openbare Gezondheidszorg Holl...       25332147   \n",
       "\n",
       "      phone_number  unique_id  \n",
       "937   +31341361552  517775499  \n",
       "4185  +31412627426  515120218  \n",
       "540   +31418515583  528854246  \n",
       "4715  +31306304444  602124926  \n",
       "11    +31206144866  516149604  \n",
       "8643  +31302628954  529818513  \n",
       "2422  +31182501349  602676376  \n",
       "6487  +31883083125  601685563  "
      ]
     },
     "execution_count": 132,
     "metadata": {},
     "output_type": "execute_result"
    }
   ],
   "source": [
    "duplicate_names = companies_df[companies_df.duplicated(subset=['name'], keep=False)].sort_values(by='name')\n",
    "duplicate_names"
   ]
  },
  {
   "cell_type": "markdown",
   "metadata": {},
   "source": [
    "These companies have the same name, but different info for all else, should the domain be matched with both rows or one?  \n",
    "This can be interpreted as the same companie with two offices in diff addresses and phone numbers"
   ]
  },
  {
   "cell_type": "code",
   "execution_count": 135,
   "metadata": {},
   "outputs": [
    {
     "data": {
      "text/html": [
       "<div>\n",
       "<style scoped>\n",
       "    .dataframe tbody tr th:only-of-type {\n",
       "        vertical-align: middle;\n",
       "    }\n",
       "\n",
       "    .dataframe tbody tr th {\n",
       "        vertical-align: top;\n",
       "    }\n",
       "\n",
       "    .dataframe thead th {\n",
       "        text-align: right;\n",
       "    }\n",
       "</style>\n",
       "<table border=\"1\" class=\"dataframe\">\n",
       "  <thead>\n",
       "    <tr style=\"text-align: right;\">\n",
       "      <th></th>\n",
       "      <th>address1</th>\n",
       "      <th>city</th>\n",
       "      <th>postal_code</th>\n",
       "      <th>country</th>\n",
       "      <th>founding_date</th>\n",
       "      <th>name</th>\n",
       "      <th>company_number</th>\n",
       "      <th>phone_number</th>\n",
       "      <th>unique_id</th>\n",
       "    </tr>\n",
       "  </thead>\n",
       "  <tbody>\n",
       "    <tr>\n",
       "      <th>2475</th>\n",
       "      <td>Lange Bunder 5</td>\n",
       "      <td>Bavel</td>\n",
       "      <td>4854MB</td>\n",
       "      <td>NL</td>\n",
       "      <td>2022-01-01</td>\n",
       "      <td>Thuiszorg Groot Brabant B.V.</td>\n",
       "      <td>24249613</td>\n",
       "      <td>+31161437554</td>\n",
       "      <td>529758461</td>\n",
       "    </tr>\n",
       "    <tr>\n",
       "      <th>434</th>\n",
       "      <td>Lange Bunder 7</td>\n",
       "      <td>Bavel</td>\n",
       "      <td>4854MB</td>\n",
       "      <td>NL</td>\n",
       "      <td>2018-01-01</td>\n",
       "      <td>Villa Groot Brabant B.V.</td>\n",
       "      <td>71104151</td>\n",
       "      <td>+31161437554</td>\n",
       "      <td>603707264</td>\n",
       "    </tr>\n",
       "    <tr>\n",
       "      <th>6758</th>\n",
       "      <td>Verlengde Luijtenstraat 4</td>\n",
       "      <td>Lekkerkerk</td>\n",
       "      <td>2941CH</td>\n",
       "      <td>NL</td>\n",
       "      <td>2008-01-01</td>\n",
       "      <td>Luijten Verwarming B.V.</td>\n",
       "      <td>24444224</td>\n",
       "      <td>+31180664141</td>\n",
       "      <td>600327987</td>\n",
       "    </tr>\n",
       "    <tr>\n",
       "      <th>5197</th>\n",
       "      <td>Verlengde Luijtenstraat 4</td>\n",
       "      <td>Lekkerkerk</td>\n",
       "      <td>2941CH</td>\n",
       "      <td>NL</td>\n",
       "      <td>2007-01-01</td>\n",
       "      <td>P. Luijten Beheer B.V.</td>\n",
       "      <td>24427014</td>\n",
       "      <td>+31180664141</td>\n",
       "      <td>600116484</td>\n",
       "    </tr>\n",
       "    <tr>\n",
       "      <th>6998</th>\n",
       "      <td>Herikerbergweg 238</td>\n",
       "      <td>Amsterdam</td>\n",
       "      <td>1101CM</td>\n",
       "      <td>NL</td>\n",
       "      <td>2016-01-01</td>\n",
       "      <td>Sim Lease 5 B.V.</td>\n",
       "      <td>27372291</td>\n",
       "      <td>+31204064444</td>\n",
       "      <td>600861852</td>\n",
       "    </tr>\n",
       "    <tr>\n",
       "      <th>8081</th>\n",
       "      <td>Ankersmidplein 2</td>\n",
       "      <td>Zaandam</td>\n",
       "      <td>1506CK</td>\n",
       "      <td>NL</td>\n",
       "      <td>2008-01-01</td>\n",
       "      <td>Primark Netherlands B.V.</td>\n",
       "      <td>23744650</td>\n",
       "      <td>+31204064444</td>\n",
       "      <td>601467868</td>\n",
       "    </tr>\n",
       "    <tr>\n",
       "      <th>1417</th>\n",
       "      <td>Ettensestraat 19</td>\n",
       "      <td>Terborg</td>\n",
       "      <td>7061AA</td>\n",
       "      <td>NL</td>\n",
       "      <td>2007-01-01</td>\n",
       "      <td>Potomac Classics B.V.</td>\n",
       "      <td>09033767</td>\n",
       "      <td>+31315326419</td>\n",
       "      <td>514901631</td>\n",
       "    </tr>\n",
       "    <tr>\n",
       "      <th>267</th>\n",
       "      <td>Rijksweg 112</td>\n",
       "      <td>Gaanderen</td>\n",
       "      <td>7011EC</td>\n",
       "      <td>NL</td>\n",
       "      <td>2002-01-01</td>\n",
       "      <td>Potomac Motors Nederland B.V.</td>\n",
       "      <td>10040368</td>\n",
       "      <td>+31315326419</td>\n",
       "      <td>528894012</td>\n",
       "    </tr>\n",
       "    <tr>\n",
       "      <th>137</th>\n",
       "      <td>Hoogstraat 24 B 3</td>\n",
       "      <td>Nijkerk Gld</td>\n",
       "      <td>3862AL</td>\n",
       "      <td>NL</td>\n",
       "      <td>2011-01-01</td>\n",
       "      <td>Meacasa B.V.</td>\n",
       "      <td>51917416</td>\n",
       "      <td>+31333033500</td>\n",
       "      <td>601201162</td>\n",
       "    </tr>\n",
       "    <tr>\n",
       "      <th>4774</th>\n",
       "      <td>Hoogstraat 24 B 03</td>\n",
       "      <td>Nijkerk Gld</td>\n",
       "      <td>3862AL</td>\n",
       "      <td>NL</td>\n",
       "      <td>2017-01-01</td>\n",
       "      <td>Sock my Feet B.V.</td>\n",
       "      <td>72600446</td>\n",
       "      <td>+31333033500</td>\n",
       "      <td>603883921</td>\n",
       "    </tr>\n",
       "    <tr>\n",
       "      <th>1996</th>\n",
       "      <td>Dorpsstraat 99 A</td>\n",
       "      <td>Lexmond</td>\n",
       "      <td>4128BX</td>\n",
       "      <td>NL</td>\n",
       "      <td>2001-01-01</td>\n",
       "      <td>Delpeut Lexmond B.V.</td>\n",
       "      <td>11052376</td>\n",
       "      <td>+31347341609</td>\n",
       "      <td>518144785</td>\n",
       "    </tr>\n",
       "    <tr>\n",
       "      <th>9675</th>\n",
       "      <td>Wilgenhof 13</td>\n",
       "      <td>Lexmond</td>\n",
       "      <td>4128SH</td>\n",
       "      <td>NL</td>\n",
       "      <td>2001-01-01</td>\n",
       "      <td>Houdstermaatschappij Ralph Delpeut B.V.</td>\n",
       "      <td>11052396</td>\n",
       "      <td>+31347341609</td>\n",
       "      <td>518144960</td>\n",
       "    </tr>\n",
       "    <tr>\n",
       "      <th>1131</th>\n",
       "      <td>Randstad 22  44</td>\n",
       "      <td>Almere</td>\n",
       "      <td>1316BZ</td>\n",
       "      <td>NL</td>\n",
       "      <td>2001-01-01</td>\n",
       "      <td>Dveno B.V.</td>\n",
       "      <td>58023917</td>\n",
       "      <td>+31365482838</td>\n",
       "      <td>602148723</td>\n",
       "    </tr>\n",
       "    <tr>\n",
       "      <th>611</th>\n",
       "      <td>Randstad 22 44</td>\n",
       "      <td>Almere</td>\n",
       "      <td>1316BZ</td>\n",
       "      <td>NL</td>\n",
       "      <td>2013-01-01</td>\n",
       "      <td>Dveno Holding B.V.</td>\n",
       "      <td>58023615</td>\n",
       "      <td>+31365482838</td>\n",
       "      <td>602148695</td>\n",
       "    </tr>\n",
       "    <tr>\n",
       "      <th>7689</th>\n",
       "      <td>De Soal 4</td>\n",
       "      <td>Hemelum</td>\n",
       "      <td>8584VS</td>\n",
       "      <td>NL</td>\n",
       "      <td>2005-01-01</td>\n",
       "      <td>Frievar B.V.</td>\n",
       "      <td>01110544</td>\n",
       "      <td>+31514581991</td>\n",
       "      <td>497204875</td>\n",
       "    </tr>\n",
       "    <tr>\n",
       "      <th>2684</th>\n",
       "      <td>De Soal 4</td>\n",
       "      <td>Hemelum</td>\n",
       "      <td>8584VS</td>\n",
       "      <td>NL</td>\n",
       "      <td>2007-01-01</td>\n",
       "      <td>Hemelumer Hoeve B.V.</td>\n",
       "      <td>01119260</td>\n",
       "      <td>+31514581991</td>\n",
       "      <td>498336781</td>\n",
       "    </tr>\n",
       "    <tr>\n",
       "      <th>7082</th>\n",
       "      <td>Parallelweg 4</td>\n",
       "      <td>Haaksbergen</td>\n",
       "      <td>7482CA</td>\n",
       "      <td>NL</td>\n",
       "      <td>2016-01-01</td>\n",
       "      <td>Chef12</td>\n",
       "      <td>66828201</td>\n",
       "      <td>+31534785648</td>\n",
       "      <td>603204802</td>\n",
       "    </tr>\n",
       "    <tr>\n",
       "      <th>2875</th>\n",
       "      <td>Parallelweg 4</td>\n",
       "      <td>Haaksbergen</td>\n",
       "      <td>7482CA</td>\n",
       "      <td>NL</td>\n",
       "      <td>2019-01-01</td>\n",
       "      <td>Wvv38</td>\n",
       "      <td>74427652</td>\n",
       "      <td>+31534785648</td>\n",
       "      <td>604110219</td>\n",
       "    </tr>\n",
       "    <tr>\n",
       "      <th>7504</th>\n",
       "      <td>Oldambtplein 7</td>\n",
       "      <td>Winschoten</td>\n",
       "      <td>9671PP</td>\n",
       "      <td>NL</td>\n",
       "      <td>2005-01-01</td>\n",
       "      <td>Makelaar Idee B.V.</td>\n",
       "      <td>02087329</td>\n",
       "      <td>+31597431066</td>\n",
       "      <td>524585148</td>\n",
       "    </tr>\n",
       "    <tr>\n",
       "      <th>9995</th>\n",
       "      <td>Oldambtplein 7</td>\n",
       "      <td>Winschoten</td>\n",
       "      <td>9671PP</td>\n",
       "      <td>NL</td>\n",
       "      <td>2005-01-01</td>\n",
       "      <td>Hypotheek Idee B.V.</td>\n",
       "      <td>02072554</td>\n",
       "      <td>+31597431066</td>\n",
       "      <td>517051411</td>\n",
       "    </tr>\n",
       "    <tr>\n",
       "      <th>2283</th>\n",
       "      <td>Saturnusstraat 95 Unit 0.07</td>\n",
       "      <td>'s-Gravenhage</td>\n",
       "      <td>2516AG</td>\n",
       "      <td>NL</td>\n",
       "      <td>2015-01-01</td>\n",
       "      <td>Unknown Group B.V.</td>\n",
       "      <td>64913635</td>\n",
       "      <td>+31703120312</td>\n",
       "      <td>602964930</td>\n",
       "    </tr>\n",
       "    <tr>\n",
       "      <th>1035</th>\n",
       "      <td>Saturnusstraat 95 Unit 0.07</td>\n",
       "      <td>'s-Gravenhage</td>\n",
       "      <td>2516AG</td>\n",
       "      <td>NL</td>\n",
       "      <td>2015-01-01</td>\n",
       "      <td>Venturesone B.V.</td>\n",
       "      <td>27142237</td>\n",
       "      <td>+31703120312</td>\n",
       "      <td>527598647</td>\n",
       "    </tr>\n",
       "    <tr>\n",
       "      <th>9898</th>\n",
       "      <td>Huisbergenweg 4</td>\n",
       "      <td>Rosmalen</td>\n",
       "      <td>5249JR</td>\n",
       "      <td>NL</td>\n",
       "      <td>2018-01-01</td>\n",
       "      <td>Recruit4U B.V.</td>\n",
       "      <td>71107452</td>\n",
       "      <td>+31735220088</td>\n",
       "      <td>603707354</td>\n",
       "    </tr>\n",
       "    <tr>\n",
       "      <th>9442</th>\n",
       "      <td>De Diepteweg 26</td>\n",
       "      <td>'s-Hertogenbosch</td>\n",
       "      <td>5236PV</td>\n",
       "      <td>NL</td>\n",
       "      <td>2017-01-01</td>\n",
       "      <td>Gds Bouwsystemen B.V.</td>\n",
       "      <td>17175995</td>\n",
       "      <td>+31735220088</td>\n",
       "      <td>524812995</td>\n",
       "    </tr>\n",
       "    <tr>\n",
       "      <th>152</th>\n",
       "      <td>Wagnerplein 27</td>\n",
       "      <td>Tilburg</td>\n",
       "      <td>5011LP</td>\n",
       "      <td>NL</td>\n",
       "      <td>2006-01-01</td>\n",
       "      <td>Eazy Hair Holland B.V.</td>\n",
       "      <td>17869889</td>\n",
       "      <td>+31735482233</td>\n",
       "      <td>600597941</td>\n",
       "    </tr>\n",
       "    <tr>\n",
       "      <th>20</th>\n",
       "      <td>Schiedamsedijk 49</td>\n",
       "      <td>Rotterdam</td>\n",
       "      <td>3011ED</td>\n",
       "      <td>NL</td>\n",
       "      <td>2014-01-01</td>\n",
       "      <td>Eazy Hair Europe B.V.</td>\n",
       "      <td>18089265</td>\n",
       "      <td>+31735482233</td>\n",
       "      <td>526226798</td>\n",
       "    </tr>\n",
       "    <tr>\n",
       "      <th>161</th>\n",
       "      <td>Houtkopersstraat 2</td>\n",
       "      <td>Zwijndrecht</td>\n",
       "      <td>3334KD</td>\n",
       "      <td>NL</td>\n",
       "      <td>2017-01-01</td>\n",
       "      <td>Rez Safety Group B.V.</td>\n",
       "      <td>70382557</td>\n",
       "      <td>+31786100321</td>\n",
       "      <td>603625570</td>\n",
       "    </tr>\n",
       "    <tr>\n",
       "      <th>8696</th>\n",
       "      <td>Houtkopersstraat 2</td>\n",
       "      <td>Zwijndrecht</td>\n",
       "      <td>3334KD</td>\n",
       "      <td>NL</td>\n",
       "      <td>2012-01-01</td>\n",
       "      <td>Rez Safety Products B.V.</td>\n",
       "      <td>54637015</td>\n",
       "      <td>+31786100321</td>\n",
       "      <td>601552535</td>\n",
       "    </tr>\n",
       "    <tr>\n",
       "      <th>8609</th>\n",
       "      <td>Jan Blankenweg 2</td>\n",
       "      <td>Gorinchem</td>\n",
       "      <td>4207HN</td>\n",
       "      <td>NL</td>\n",
       "      <td>2002-01-01</td>\n",
       "      <td>Vox Máxima B.V.</td>\n",
       "      <td>11052533</td>\n",
       "      <td>+31888260000</td>\n",
       "      <td>518178726</td>\n",
       "    </tr>\n",
       "    <tr>\n",
       "      <th>3392</th>\n",
       "      <td>Schaardijk 211</td>\n",
       "      <td>Rotterdam</td>\n",
       "      <td>3063NH</td>\n",
       "      <td>NL</td>\n",
       "      <td>2003-01-01</td>\n",
       "      <td>Van Oord N.V.</td>\n",
       "      <td>24355843</td>\n",
       "      <td>+31888260000</td>\n",
       "      <td>600441440</td>\n",
       "    </tr>\n",
       "  </tbody>\n",
       "</table>\n",
       "</div>"
      ],
      "text/plain": [
       "                         address1              city postal_code country  \\\n",
       "2475               Lange Bunder 5             Bavel      4854MB      NL   \n",
       "434                Lange Bunder 7             Bavel      4854MB      NL   \n",
       "6758    Verlengde Luijtenstraat 4        Lekkerkerk      2941CH      NL   \n",
       "5197    Verlengde Luijtenstraat 4        Lekkerkerk      2941CH      NL   \n",
       "6998           Herikerbergweg 238         Amsterdam      1101CM      NL   \n",
       "8081             Ankersmidplein 2           Zaandam      1506CK      NL   \n",
       "1417             Ettensestraat 19           Terborg      7061AA      NL   \n",
       "267                  Rijksweg 112         Gaanderen      7011EC      NL   \n",
       "137             Hoogstraat 24 B 3       Nijkerk Gld      3862AL      NL   \n",
       "4774           Hoogstraat 24 B 03       Nijkerk Gld      3862AL      NL   \n",
       "1996             Dorpsstraat 99 A           Lexmond      4128BX      NL   \n",
       "9675                 Wilgenhof 13           Lexmond      4128SH      NL   \n",
       "1131              Randstad 22  44            Almere      1316BZ      NL   \n",
       "611                Randstad 22 44            Almere      1316BZ      NL   \n",
       "7689                    De Soal 4           Hemelum      8584VS      NL   \n",
       "2684                    De Soal 4           Hemelum      8584VS      NL   \n",
       "7082                Parallelweg 4       Haaksbergen      7482CA      NL   \n",
       "2875                Parallelweg 4       Haaksbergen      7482CA      NL   \n",
       "7504               Oldambtplein 7        Winschoten      9671PP      NL   \n",
       "9995               Oldambtplein 7        Winschoten      9671PP      NL   \n",
       "2283  Saturnusstraat 95 Unit 0.07     's-Gravenhage      2516AG      NL   \n",
       "1035  Saturnusstraat 95 Unit 0.07     's-Gravenhage      2516AG      NL   \n",
       "9898              Huisbergenweg 4          Rosmalen      5249JR      NL   \n",
       "9442              De Diepteweg 26  's-Hertogenbosch      5236PV      NL   \n",
       "152                Wagnerplein 27           Tilburg      5011LP      NL   \n",
       "20              Schiedamsedijk 49         Rotterdam      3011ED      NL   \n",
       "161            Houtkopersstraat 2       Zwijndrecht      3334KD      NL   \n",
       "8696           Houtkopersstraat 2       Zwijndrecht      3334KD      NL   \n",
       "8609             Jan Blankenweg 2         Gorinchem      4207HN      NL   \n",
       "3392               Schaardijk 211         Rotterdam      3063NH      NL   \n",
       "\n",
       "     founding_date                                     name company_number  \\\n",
       "2475    2022-01-01             Thuiszorg Groot Brabant B.V.       24249613   \n",
       "434     2018-01-01                 Villa Groot Brabant B.V.       71104151   \n",
       "6758    2008-01-01                  Luijten Verwarming B.V.       24444224   \n",
       "5197    2007-01-01                   P. Luijten Beheer B.V.       24427014   \n",
       "6998    2016-01-01                         Sim Lease 5 B.V.       27372291   \n",
       "8081    2008-01-01                 Primark Netherlands B.V.       23744650   \n",
       "1417    2007-01-01                    Potomac Classics B.V.       09033767   \n",
       "267     2002-01-01            Potomac Motors Nederland B.V.       10040368   \n",
       "137     2011-01-01                             Meacasa B.V.       51917416   \n",
       "4774    2017-01-01                        Sock my Feet B.V.       72600446   \n",
       "1996    2001-01-01                     Delpeut Lexmond B.V.       11052376   \n",
       "9675    2001-01-01  Houdstermaatschappij Ralph Delpeut B.V.       11052396   \n",
       "1131    2001-01-01                               Dveno B.V.       58023917   \n",
       "611     2013-01-01                       Dveno Holding B.V.       58023615   \n",
       "7689    2005-01-01                             Frievar B.V.       01110544   \n",
       "2684    2007-01-01                     Hemelumer Hoeve B.V.       01119260   \n",
       "7082    2016-01-01                                   Chef12       66828201   \n",
       "2875    2019-01-01                                    Wvv38       74427652   \n",
       "7504    2005-01-01                       Makelaar Idee B.V.       02087329   \n",
       "9995    2005-01-01                      Hypotheek Idee B.V.       02072554   \n",
       "2283    2015-01-01                       Unknown Group B.V.       64913635   \n",
       "1035    2015-01-01                         Venturesone B.V.       27142237   \n",
       "9898    2018-01-01                           Recruit4U B.V.       71107452   \n",
       "9442    2017-01-01                    Gds Bouwsystemen B.V.       17175995   \n",
       "152     2006-01-01                   Eazy Hair Holland B.V.       17869889   \n",
       "20      2014-01-01                    Eazy Hair Europe B.V.       18089265   \n",
       "161     2017-01-01                    Rez Safety Group B.V.       70382557   \n",
       "8696    2012-01-01                 Rez Safety Products B.V.       54637015   \n",
       "8609    2002-01-01                          Vox Máxima B.V.       11052533   \n",
       "3392    2003-01-01                            Van Oord N.V.       24355843   \n",
       "\n",
       "      phone_number  unique_id  \n",
       "2475  +31161437554  529758461  \n",
       "434   +31161437554  603707264  \n",
       "6758  +31180664141  600327987  \n",
       "5197  +31180664141  600116484  \n",
       "6998  +31204064444  600861852  \n",
       "8081  +31204064444  601467868  \n",
       "1417  +31315326419  514901631  \n",
       "267   +31315326419  528894012  \n",
       "137   +31333033500  601201162  \n",
       "4774  +31333033500  603883921  \n",
       "1996  +31347341609  518144785  \n",
       "9675  +31347341609  518144960  \n",
       "1131  +31365482838  602148723  \n",
       "611   +31365482838  602148695  \n",
       "7689  +31514581991  497204875  \n",
       "2684  +31514581991  498336781  \n",
       "7082  +31534785648  603204802  \n",
       "2875  +31534785648  604110219  \n",
       "7504  +31597431066  524585148  \n",
       "9995  +31597431066  517051411  \n",
       "2283  +31703120312  602964930  \n",
       "1035  +31703120312  527598647  \n",
       "9898  +31735220088  603707354  \n",
       "9442  +31735220088  524812995  \n",
       "152   +31735482233  600597941  \n",
       "20    +31735482233  526226798  \n",
       "161   +31786100321  603625570  \n",
       "8696  +31786100321  601552535  \n",
       "8609  +31888260000  518178726  \n",
       "3392  +31888260000  600441440  "
      ]
     },
     "execution_count": 135,
     "metadata": {},
     "output_type": "execute_result"
    }
   ],
   "source": [
    "duplicate_phone = companies_df[companies_df.duplicated(subset=['phone_number'], keep=False)].sort_values(by='phone_number')\n",
    "duplicate_phone"
   ]
  },
  {
   "cell_type": "markdown",
   "metadata": {},
   "source": [
    "This shows cases where companies have the same phone number, address and even name. Others have different name but share address, or other combinations\n",
    "\n",
    "The only thing trully unique is the company number, but not all domains will show the company number, how to match them correctly?"
   ]
  },
  {
   "cell_type": "markdown",
   "metadata": {},
   "source": [
    "To do:  \n",
    "- Extract phone number using a regular expression from all the text in the domain\n",
    "- Try to extract other info like Chamber of commerce company number and name - use copyright section at the bottom to get name?\n",
    "- Combine and match the info extracted to generate a confidence percentage in the matches obtained, if all 3 match, 100%, if only one matches 75%, something like this"
   ]
  },
  {
   "cell_type": "markdown",
   "metadata": {},
   "source": [
    "### Analysing Outputs"
   ]
  },
  {
   "cell_type": "code",
   "execution_count": 5,
   "metadata": {},
   "outputs": [
    {
     "data": {
      "text/html": [
       "<div>\n",
       "<style scoped>\n",
       "    .dataframe tbody tr th:only-of-type {\n",
       "        vertical-align: middle;\n",
       "    }\n",
       "\n",
       "    .dataframe tbody tr th {\n",
       "        vertical-align: top;\n",
       "    }\n",
       "\n",
       "    .dataframe thead th {\n",
       "        text-align: right;\n",
       "    }\n",
       "</style>\n",
       "<table border=\"1\" class=\"dataframe\">\n",
       "  <thead>\n",
       "    <tr style=\"text-align: right;\">\n",
       "      <th></th>\n",
       "      <th>url</th>\n",
       "      <th>status</th>\n",
       "      <th>email</th>\n",
       "      <th>phone</th>\n",
       "      <th>address</th>\n",
       "      <th>copyright</th>\n",
       "    </tr>\n",
       "  </thead>\n",
       "  <tbody>\n",
       "    <tr>\n",
       "      <th>0</th>\n",
       "      <td>zutphenaanzet.nl</td>\n",
       "      <td>Error: [Failure instance: Traceback: &lt;class 't...</td>\n",
       "      <td>NaN</td>\n",
       "      <td>NaN</td>\n",
       "      <td>NaN</td>\n",
       "      <td>NaN</td>\n",
       "    </tr>\n",
       "    <tr>\n",
       "      <th>1</th>\n",
       "      <td>janbuisbaarn.nl</td>\n",
       "      <td>Error: [Failure instance: Traceback: &lt;class 's...</td>\n",
       "      <td>NaN</td>\n",
       "      <td>NaN</td>\n",
       "      <td>NaN</td>\n",
       "      <td>NaN</td>\n",
       "    </tr>\n",
       "    <tr>\n",
       "      <th>2</th>\n",
       "      <td>adviesbedrijfcnossen.nl</td>\n",
       "      <td>Error: [Failure instance: Traceback: &lt;class 's...</td>\n",
       "      <td>NaN</td>\n",
       "      <td>NaN</td>\n",
       "      <td>NaN</td>\n",
       "      <td>NaN</td>\n",
       "    </tr>\n",
       "    <tr>\n",
       "      <th>3</th>\n",
       "      <td>https://beeldenbouwers.nl</td>\n",
       "      <td>200</td>\n",
       "      <td>NaN</td>\n",
       "      <td>NaN</td>\n",
       "      <td>NaN</td>\n",
       "      <td>NaN</td>\n",
       "    </tr>\n",
       "    <tr>\n",
       "      <th>4</th>\n",
       "      <td>accountancydirect.nl</td>\n",
       "      <td>Error: [Failure instance: Traceback: &lt;class 't...</td>\n",
       "      <td>NaN</td>\n",
       "      <td>NaN</td>\n",
       "      <td>NaN</td>\n",
       "      <td>NaN</td>\n",
       "    </tr>\n",
       "  </tbody>\n",
       "</table>\n",
       "</div>"
      ],
      "text/plain": [
       "                         url  \\\n",
       "0           zutphenaanzet.nl   \n",
       "1            janbuisbaarn.nl   \n",
       "2    adviesbedrijfcnossen.nl   \n",
       "3  https://beeldenbouwers.nl   \n",
       "4       accountancydirect.nl   \n",
       "\n",
       "                                              status email phone address  \\\n",
       "0  Error: [Failure instance: Traceback: <class 't...   NaN   NaN     NaN   \n",
       "1  Error: [Failure instance: Traceback: <class 's...   NaN   NaN     NaN   \n",
       "2  Error: [Failure instance: Traceback: <class 's...   NaN   NaN     NaN   \n",
       "3                                                200   NaN   NaN     NaN   \n",
       "4  Error: [Failure instance: Traceback: <class 't...   NaN   NaN     NaN   \n",
       "\n",
       "   copyright  \n",
       "0        NaN  \n",
       "1        NaN  \n",
       "2        NaN  \n",
       "3        NaN  \n",
       "4        NaN  "
      ]
     },
     "execution_count": 5,
     "metadata": {},
     "output_type": "execute_result"
    }
   ],
   "source": [
    "# scraped_out_df = pd.read_csv('scraping_test/scraping_test/spiders/output.csv')\n",
    "# scraped_out_df.head()\n",
    "# df_out = scraped_out_df[scraped_out_df['status'] == '200']\n",
    "# df_out\n",
    "# df_out.count()"
   ]
  },
  {
   "cell_type": "markdown",
   "metadata": {},
   "source": [
    "Reached a limit when running for all 10k domains, possibly from too many open connections. (Tried TIMEOUT setting but causes other errors.) Batching into 1k files and running separately"
   ]
  },
  {
   "cell_type": "code",
   "execution_count": 11,
   "metadata": {},
   "outputs": [],
   "source": []
  },
  {
   "cell_type": "code",
   "execution_count": 6,
   "metadata": {},
   "outputs": [],
   "source": [
    "file_path = 'domains.csv'  # Example path to the 10k rows CSV file\n",
    "csv_data = pd.read_csv(file_path)\n",
    "\n",
    "# Function to split the CSV into batches of 1000 rows each\n",
    "def batch_csv(data, batch_size=1000):\n",
    "    total_batches = len(data) // batch_size + (1 if len(data) % batch_size != 0 else 0)\n",
    "    batches = []\n",
    "    for i in range(total_batches):\n",
    "        batch = data[i*batch_size:(i+1)*batch_size] # 0 to 1000, 1000 to 2000\n",
    "        batch_file = f'./output/output_batch_{i+1}.csv'\n",
    "        # batch.to_csv(batch_file, index=False)\n",
    "        batches.append(batch_file)\n",
    "    return batches\n",
    "\n",
    "# Split the CSV into 1k row batches\n",
    "batch_files = batch_csv(csv_data)"
   ]
  },
  {
   "cell_type": "markdown",
   "metadata": {},
   "source": [
    "Now I have 10 domain files, can run each separately and output to the same file.  \n",
    "Will write a bash script to loop the files and run the scrapy command outputing to different files"
   ]
  },
  {
   "cell_type": "code",
   "execution_count": 19,
   "metadata": {},
   "outputs": [
    {
     "data": {
      "text/html": [
       "<div>\n",
       "<style scoped>\n",
       "    .dataframe tbody tr th:only-of-type {\n",
       "        vertical-align: middle;\n",
       "    }\n",
       "\n",
       "    .dataframe tbody tr th {\n",
       "        vertical-align: top;\n",
       "    }\n",
       "\n",
       "    .dataframe thead th {\n",
       "        text-align: right;\n",
       "    }\n",
       "</style>\n",
       "<table border=\"1\" class=\"dataframe\">\n",
       "  <thead>\n",
       "    <tr style=\"text-align: right;\">\n",
       "      <th></th>\n",
       "      <th>url</th>\n",
       "      <th>status</th>\n",
       "      <th>title</th>\n",
       "      <th>email</th>\n",
       "      <th>phone</th>\n",
       "      <th>address</th>\n",
       "      <th>copyright</th>\n",
       "    </tr>\n",
       "  </thead>\n",
       "  <tbody>\n",
       "    <tr>\n",
       "      <th>0</th>\n",
       "      <td>zutphenaanzet.nl</td>\n",
       "      <td>Error: [Failure instance: Traceback: &lt;class 't...</td>\n",
       "      <td>NaN</td>\n",
       "      <td>NaN</td>\n",
       "      <td>NaN</td>\n",
       "      <td>NaN</td>\n",
       "      <td>NaN</td>\n",
       "    </tr>\n",
       "    <tr>\n",
       "      <th>1</th>\n",
       "      <td>https://beeldenbouwers.nl</td>\n",
       "      <td>200</td>\n",
       "      <td>Domain Default page</td>\n",
       "      <td>NaN</td>\n",
       "      <td>NaN</td>\n",
       "      <td>NaN</td>\n",
       "      <td>NaN</td>\n",
       "    </tr>\n",
       "    <tr>\n",
       "      <th>2</th>\n",
       "      <td>https://gjgmedia.nl</td>\n",
       "      <td>200</td>\n",
       "      <td>Saus Media</td>\n",
       "      <td>NaN</td>\n",
       "      <td>NaN</td>\n",
       "      <td>NaN</td>\n",
       "      <td>NaN</td>\n",
       "    </tr>\n",
       "    <tr>\n",
       "      <th>3</th>\n",
       "      <td>janbuisbaarn.nl</td>\n",
       "      <td>Error: [Failure instance: Traceback: &lt;class 's...</td>\n",
       "      <td>NaN</td>\n",
       "      <td>NaN</td>\n",
       "      <td>NaN</td>\n",
       "      <td>NaN</td>\n",
       "      <td>NaN</td>\n",
       "    </tr>\n",
       "    <tr>\n",
       "      <th>4</th>\n",
       "      <td>accountancydirect.nl</td>\n",
       "      <td>Error: [Failure instance: Traceback: &lt;class 't...</td>\n",
       "      <td>NaN</td>\n",
       "      <td>NaN</td>\n",
       "      <td>NaN</td>\n",
       "      <td>NaN</td>\n",
       "      <td>NaN</td>\n",
       "    </tr>\n",
       "  </tbody>\n",
       "</table>\n",
       "</div>"
      ],
      "text/plain": [
       "                         url  \\\n",
       "0           zutphenaanzet.nl   \n",
       "1  https://beeldenbouwers.nl   \n",
       "2        https://gjgmedia.nl   \n",
       "3            janbuisbaarn.nl   \n",
       "4       accountancydirect.nl   \n",
       "\n",
       "                                              status                title  \\\n",
       "0  Error: [Failure instance: Traceback: <class 't...                  NaN   \n",
       "1                                                200  Domain Default page   \n",
       "2                                                200           Saus Media   \n",
       "3  Error: [Failure instance: Traceback: <class 's...                  NaN   \n",
       "4  Error: [Failure instance: Traceback: <class 't...                  NaN   \n",
       "\n",
       "  email phone address copyright  \n",
       "0   NaN   NaN     NaN       NaN  \n",
       "1   NaN   NaN     NaN       NaN  \n",
       "2   NaN   NaN     NaN       NaN  \n",
       "3   NaN   NaN     NaN       NaN  \n",
       "4   NaN   NaN     NaN       NaN  "
      ]
     },
     "execution_count": 19,
     "metadata": {},
     "output_type": "execute_result"
    }
   ],
   "source": [
    "# scraped_out_df = pd.read_csv('scraping_test/scraping_test/spiders/output.csv')\n",
    "# scraped_out_df.head()\n",
    "# domains_OK = scraped_out_df[scraped_out_df['status'] == '200'].reset_index(drop=True)\n",
    "# len(domains_OK) / len(scraped_out_df) * 100"
   ]
  },
  {
   "cell_type": "markdown",
   "metadata": {},
   "source": [
    "70% of the domains have OK status, the other 30 % did not connect properly  \n",
    "Errors found:\n",
    "- DNS lookup failed\n",
    "- Request failed for domain: non 200 responses\n",
    "- TCP connection timed out"
   ]
  },
  {
   "cell_type": "code",
   "execution_count": 45,
   "metadata": {},
   "outputs": [
    {
     "data": {
      "text/plain": [
       "index        2094\n",
       "url          2094\n",
       "status       2094\n",
       "title        2094\n",
       "email         942\n",
       "phone         697\n",
       "address        51\n",
       "copyright     988\n",
       "dtype: int64"
      ]
     },
     "execution_count": 45,
     "metadata": {},
     "output_type": "execute_result"
    }
   ],
   "source": [
    "# domains_OK.count()\n",
    "# domains_OK.sort_values(by='address').head(10)"
   ]
  },
  {
   "cell_type": "markdown",
   "metadata": {},
   "source": [
    "The best match seems to come from the title and company name  \n",
    "Trying Fuzzy matching after normalizing these"
   ]
  },
  {
   "cell_type": "code",
   "execution_count": 121,
   "metadata": {},
   "outputs": [],
   "source": [
    "def normalize_title(title):\n",
    "    title_l = title.lower()\n",
    "    title_norm = re.sub(r'[^\\w\\s]', '', title_l)\n",
    "\n",
    "    # Optional: Remove common stopwords (you can expand this list)\n",
    "    stopwords = ['voor', 'en', 'de', 'het', 'een', 'van', 'te', 'in', 'op', 'bij', 'met', \n",
    "                'uit', 'om', 'ik', 'je', 'jij', 'hij', 'zij', 'ze', 'wij', 'we', 'mij', \n",
    "                'me', 'hem', 'haar', 'ons', 'hun', 'over', 'onder', 'naast', 'door', \n",
    "                'tegen', 'is', 'was', 'heb', 'heeft', 'hebben', 'worden', 'doen', 'kan', \n",
    "                'kunnen', 'maar', 'als', 'tot', 'dan', 'nu', 'weer', 'bv']\n",
    "    \n",
    "    text = ' '.join([word for word in title_norm.split() if word not in stopwords])\n",
    "    \n",
    "    return text\n"
   ]
  },
  {
   "cell_type": "markdown",
   "metadata": {},
   "source": [
    "Testing"
   ]
  },
  {
   "cell_type": "code",
   "execution_count": null,
   "metadata": {},
   "outputs": [],
   "source": [
    "# title_test = domains_OK['title'].iloc[264]\n",
    "# title_test\n",
    "\n",
    "# title_test_norm = normalize_title(title_test)\n",
    "# title_test_norm\n",
    "\n",
    "# # Load Companies names to test\n",
    "# companies_df = pd.read_csv('companies.csv', header=0, delimiter=',')\n",
    "# companies_df.head()\n",
    "# # 5421\n",
    "# company_test = companies_df['name'].iloc[5419]\n",
    "# company_test\n",
    "# company_test_norm = normalize_title(company_test)\n",
    "# company_test_norm\n",
    "# company_test2 = companies_df['name'].iloc[5422]\n",
    "# company_test2\n",
    "# company_test_norm2 = normalize_title(company_test2)\n",
    "# company_test_norm2\n",
    "# company_titles = [company_test, company_test2]\n",
    "# company_titles_norm = [company_test_norm, company_test_norm2]\n",
    "# match = process.extractOne(title_test_norm, company_titles_norm,  scorer=fuzz.token_sort_ratio)\n",
    "# match\n",
    "# best_match_title = company_titles[company_titles_norm.index(match[0])]\n",
    "# best_match_title\n",
    "\n",
    "## "
   ]
  },
  {
   "cell_type": "markdown",
   "metadata": {},
   "source": [
    "Seems to be working - generalizing for df and matching the domain to the companies unique ID"
   ]
  },
  {
   "cell_type": "markdown",
   "metadata": {},
   "source": [
    "Read all batches into one df"
   ]
  },
  {
   "cell_type": "code",
   "execution_count": 3,
   "metadata": {},
   "outputs": [
    {
     "name": "stdout",
     "output_type": "stream",
     "text": [
      "998\n",
      "998\n",
      "998\n",
      "999\n",
      "998\n",
      "1000\n",
      "1000\n",
      "1000\n",
      "1000\n",
      "999\n"
     ]
    }
   ],
   "source": [
    "num_batches = len(os.listdir('./output'))\n",
    "df_scraped = pd.DataFrame()\n",
    "for i in range(num_batches):\n",
    "    df_scraped_batch = pd.read_csv(f'./output/output_batch_{i+1}.csv')\n",
    "    # print(df_scraped_batch['url'].count())\n",
    "    df_scraped = pd.concat([df_scraped, df_scraped_batch], ignore_index=True)"
   ]
  },
  {
   "cell_type": "code",
   "execution_count": 27,
   "metadata": {},
   "outputs": [
    {
     "data": {
      "text/plain": [
       "url          9990\n",
       "status       9990\n",
       "title        7005\n",
       "email        3193\n",
       "phone        2402\n",
       "address       138\n",
       "copyright    3286\n",
       "dtype: int64"
      ]
     },
     "execution_count": 27,
     "metadata": {},
     "output_type": "execute_result"
    }
   ],
   "source": [
    "df_scraped.count()"
   ]
  },
  {
   "cell_type": "code",
   "execution_count": 166,
   "metadata": {},
   "outputs": [
    {
     "data": {
      "text/plain": [
       "url          7005\n",
       "status       7005\n",
       "title        7005\n",
       "email        3193\n",
       "phone        2402\n",
       "address       138\n",
       "copyright    3286\n",
       "dtype: int64"
      ]
     },
     "execution_count": 166,
     "metadata": {},
     "output_type": "execute_result"
    }
   ],
   "source": [
    "df_scraped_OK = df_scraped[df_scraped['status'] == '200'].reset_index(drop=True)\n",
    "df_scraped_OK.count()"
   ]
  },
  {
   "cell_type": "code",
   "execution_count": 29,
   "metadata": {},
   "outputs": [
    {
     "data": {
      "text/plain": [
       "address1          10000\n",
       "city               9998\n",
       "postal_code        9999\n",
       "country           10000\n",
       "founding_date      9971\n",
       "name              10000\n",
       "company_number     9760\n",
       "phone_number       6384\n",
       "unique_id         10000\n",
       "dtype: int64"
      ]
     },
     "execution_count": 29,
     "metadata": {},
     "output_type": "execute_result"
    }
   ],
   "source": [
    "df_companies = pd.read_csv('companies.csv')\n",
    "df_companies.count()"
   ]
  },
  {
   "cell_type": "code",
   "execution_count": 167,
   "metadata": {},
   "outputs": [],
   "source": [
    "# Normalizing title and company name strings\n",
    "def normalize(text):\n",
    "    text = text.lower()\n",
    "    text = re.sub(r'[^\\w\\s]', '', text)\n",
    "    stopwords = ['voor', 'en', 'de', 'het', 'een', 'van', 'te', 'in', 'op', 'bij', 'met', 'uit', 'om', 'ik', 'je', 'jij', 'hij', 'zij', 'ze', 'wij', 'we', 'mij', \n",
    "                'me', 'hem', 'haar', 'ons', 'hun', 'over', 'onder', 'naast', 'door', 'tegen', 'is', 'was', 'heb', 'heeft', 'hebben', 'worden', 'doen', 'kan', \n",
    "                'kunnen', 'maar', 'als', 'tot', 'dan', 'nu', 'weer', 'bv']\n",
    "    text = ' '.join([word for word in text.split() if word not in stopwords])\n",
    "    return text\n",
    "\n",
    "# Apply preprocessing to both scraped titles and company titles\n",
    "df_scraped_OK['norm_title'] = df_scraped_OK['title'].apply(normalize)\n",
    "df_companies['norm_name'] = df_companies['name'].apply(normalize)"
   ]
  },
  {
   "cell_type": "code",
   "execution_count": 168,
   "metadata": {},
   "outputs": [
    {
     "data": {
      "text/html": [
       "<div>\n",
       "<style scoped>\n",
       "    .dataframe tbody tr th:only-of-type {\n",
       "        vertical-align: middle;\n",
       "    }\n",
       "\n",
       "    .dataframe tbody tr th {\n",
       "        vertical-align: top;\n",
       "    }\n",
       "\n",
       "    .dataframe thead th {\n",
       "        text-align: right;\n",
       "    }\n",
       "</style>\n",
       "<table border=\"1\" class=\"dataframe\">\n",
       "  <thead>\n",
       "    <tr style=\"text-align: right;\">\n",
       "      <th></th>\n",
       "      <th>url</th>\n",
       "      <th>status</th>\n",
       "      <th>title</th>\n",
       "      <th>email</th>\n",
       "      <th>phone</th>\n",
       "      <th>address</th>\n",
       "      <th>copyright</th>\n",
       "      <th>norm_title</th>\n",
       "    </tr>\n",
       "  </thead>\n",
       "  <tbody>\n",
       "    <tr>\n",
       "      <th>371</th>\n",
       "      <td>https://vdmaas.nl</td>\n",
       "      <td>200</td>\n",
       "      <td>-</td>\n",
       "      <td>NaN</td>\n",
       "      <td>NaN</td>\n",
       "      <td>NaN</td>\n",
       "      <td>NaN</td>\n",
       "      <td></td>\n",
       "    </tr>\n",
       "    <tr>\n",
       "      <th>657</th>\n",
       "      <td>https://www.htdbranding.nl/</td>\n",
       "      <td>200</td>\n",
       "      <td>-</td>\n",
       "      <td>mailto:info@htdbranding.nl</td>\n",
       "      <td>NaN</td>\n",
       "      <td>NaN</td>\n",
       "      <td>© 2022 Scheelings&amp;DochterMedia for HTDbranding</td>\n",
       "      <td></td>\n",
       "    </tr>\n",
       "    <tr>\n",
       "      <th>1657</th>\n",
       "      <td>https://makeyourweb.nl</td>\n",
       "      <td>200</td>\n",
       "      <td>Over ons</td>\n",
       "      <td>NaN</td>\n",
       "      <td>NaN</td>\n",
       "      <td>NaN</td>\n",
       "      <td>NaN</td>\n",
       "      <td></td>\n",
       "    </tr>\n",
       "    <tr>\n",
       "      <th>2643</th>\n",
       "      <td>https://www.studentcommunity.nl/</td>\n",
       "      <td>200</td>\n",
       "      <td>–</td>\n",
       "      <td>NaN</td>\n",
       "      <td>NaN</td>\n",
       "      <td>NaN</td>\n",
       "      <td>© 2020 Advando Project Control NL</td>\n",
       "      <td></td>\n",
       "    </tr>\n",
       "    <tr>\n",
       "      <th>5002</th>\n",
       "      <td>https://smartinterim.nl</td>\n",
       "      <td>200</td>\n",
       "      <td>\\n   Over ons\\n</td>\n",
       "      <td>NaN</td>\n",
       "      <td>NaN</td>\n",
       "      <td>NaN</td>\n",
       "      <td>NaN</td>\n",
       "      <td></td>\n",
       "    </tr>\n",
       "    <tr>\n",
       "      <th>5736</th>\n",
       "      <td>https://www.flexinterim.nl/</td>\n",
       "      <td>200</td>\n",
       "      <td>|</td>\n",
       "      <td>mailto:info@flexinterim.nl</td>\n",
       "      <td>NaN</td>\n",
       "      <td>NaN</td>\n",
       "      <td>NaN</td>\n",
       "      <td></td>\n",
       "    </tr>\n",
       "  </tbody>\n",
       "</table>\n",
       "</div>"
      ],
      "text/plain": [
       "                                   url status              title  \\\n",
       "371                  https://vdmaas.nl    200                  -   \n",
       "657        https://www.htdbranding.nl/    200                  -   \n",
       "1657            https://makeyourweb.nl    200           Over ons   \n",
       "2643  https://www.studentcommunity.nl/    200                  –   \n",
       "5002           https://smartinterim.nl    200  \\n   Over ons\\n     \n",
       "5736       https://www.flexinterim.nl/    200                  |   \n",
       "\n",
       "                           email phone address  \\\n",
       "371                          NaN   NaN     NaN   \n",
       "657   mailto:info@htdbranding.nl   NaN     NaN   \n",
       "1657                         NaN   NaN     NaN   \n",
       "2643                         NaN   NaN     NaN   \n",
       "5002                         NaN   NaN     NaN   \n",
       "5736  mailto:info@flexinterim.nl   NaN     NaN   \n",
       "\n",
       "                                           copyright norm_title  \n",
       "371                                              NaN             \n",
       "657   © 2022 Scheelings&DochterMedia for HTDbranding             \n",
       "1657                                             NaN             \n",
       "2643              © 2020 Advando Project Control NL              \n",
       "5002                                             NaN             \n",
       "5736                                             NaN             "
      ]
     },
     "execution_count": 168,
     "metadata": {},
     "output_type": "execute_result"
    }
   ],
   "source": [
    "df_scraped_OK[df_scraped_OK['norm_title'] == '']"
   ]
  },
  {
   "cell_type": "code",
   "execution_count": 36,
   "metadata": {},
   "outputs": [
    {
     "name": "stderr",
     "output_type": "stream",
     "text": [
      "WARNING:root:Applied processor reduces input query to empty string, all comparisons will have score 0. [Query: '']\n",
      "WARNING:root:Applied processor reduces input query to empty string, all comparisons will have score 0. [Query: '']\n",
      "WARNING:root:Applied processor reduces input query to empty string, all comparisons will have score 0. [Query: '']\n",
      "WARNING:root:Applied processor reduces input query to empty string, all comparisons will have score 0. [Query: '']\n",
      "WARNING:root:Applied processor reduces input query to empty string, all comparisons will have score 0. [Query: '']\n",
      "WARNING:root:Applied processor reduces input query to empty string, all comparisons will have score 0. [Query: '']\n"
     ]
    }
   ],
   "source": [
    "# Fuzzy match with index tracking\n",
    "def fuzzy_match_with_index(scraped_df, companies_df, threshold=0):\n",
    "    matches = []\n",
    "    for idx, scraped_title in enumerate(scraped_df['norm_title']):\n",
    "        match = process.extractOne(scraped_title, companies_df['norm_name'], score_cutoff=threshold, scorer=fuzz.token_sort_ratio)\n",
    "        if match:\n",
    "            # Get the index of the matched company\n",
    "            matched_idx = companies_df[companies_df['norm_name'] == match[0]].index[0]\n",
    "            matches.append((idx, matched_idx, match[1]))  # (scraped title index, matched company index, score)\n",
    "    return matches\n",
    "\n",
    "# Perform the matching\n",
    "matched_indexes = fuzzy_match_with_index(df_scraped_OK, df_companies, threshold=10)\n"
   ]
  },
  {
   "cell_type": "code",
   "execution_count": 37,
   "metadata": {},
   "outputs": [
    {
     "data": {
      "text/plain": [
       "[(0, np.int64(3367), 65),\n",
       " (1, np.int64(4797), 73),\n",
       " (2, np.int64(7843), 59),\n",
       " (3, np.int64(806), 57),\n",
       " (4, np.int64(2942), 51),\n",
       " (5, np.int64(33), 70),\n",
       " (6, np.int64(7857), 90),\n",
       " (7, np.int64(5199), 100),\n",
       " (8, np.int64(1215), 66),\n",
       " (9, np.int64(5981), 80)]"
      ]
     },
     "execution_count": 37,
     "metadata": {},
     "output_type": "execute_result"
    }
   ],
   "source": [
    "matched_indexes[0:10]"
   ]
  },
  {
   "cell_type": "code",
   "execution_count": 38,
   "metadata": {},
   "outputs": [
    {
     "data": {
      "text/html": [
       "<div>\n",
       "<style scoped>\n",
       "    .dataframe tbody tr th:only-of-type {\n",
       "        vertical-align: middle;\n",
       "    }\n",
       "\n",
       "    .dataframe tbody tr th {\n",
       "        vertical-align: top;\n",
       "    }\n",
       "\n",
       "    .dataframe thead th {\n",
       "        text-align: right;\n",
       "    }\n",
       "</style>\n",
       "<table border=\"1\" class=\"dataframe\">\n",
       "  <thead>\n",
       "    <tr style=\"text-align: right;\">\n",
       "      <th></th>\n",
       "      <th>scraped_index</th>\n",
       "      <th>company_index</th>\n",
       "      <th>score</th>\n",
       "    </tr>\n",
       "  </thead>\n",
       "  <tbody>\n",
       "    <tr>\n",
       "      <th>0</th>\n",
       "      <td>0</td>\n",
       "      <td>3367</td>\n",
       "      <td>65</td>\n",
       "    </tr>\n",
       "    <tr>\n",
       "      <th>1</th>\n",
       "      <td>1</td>\n",
       "      <td>4797</td>\n",
       "      <td>73</td>\n",
       "    </tr>\n",
       "    <tr>\n",
       "      <th>2</th>\n",
       "      <td>2</td>\n",
       "      <td>7843</td>\n",
       "      <td>59</td>\n",
       "    </tr>\n",
       "    <tr>\n",
       "      <th>3</th>\n",
       "      <td>3</td>\n",
       "      <td>806</td>\n",
       "      <td>57</td>\n",
       "    </tr>\n",
       "    <tr>\n",
       "      <th>4</th>\n",
       "      <td>4</td>\n",
       "      <td>2942</td>\n",
       "      <td>51</td>\n",
       "    </tr>\n",
       "  </tbody>\n",
       "</table>\n",
       "</div>"
      ],
      "text/plain": [
       "   scraped_index  company_index  score\n",
       "0              0           3367     65\n",
       "1              1           4797     73\n",
       "2              2           7843     59\n",
       "3              3            806     57\n",
       "4              4           2942     51"
      ]
     },
     "execution_count": 38,
     "metadata": {},
     "output_type": "execute_result"
    }
   ],
   "source": [
    "# Create a DataFrame of matches with indices\n",
    "matched_df = pd.DataFrame(matched_indexes, columns=['scraped_index', 'company_index', 'score'])\n",
    "matched_df.head()"
   ]
  },
  {
   "cell_type": "markdown",
   "metadata": {},
   "source": [
    "Analysing the Errors in Matching"
   ]
  },
  {
   "cell_type": "code",
   "execution_count": 65,
   "metadata": {},
   "outputs": [
    {
     "data": {
      "text/plain": [
       "scraped_index    22\n",
       "company_index    22\n",
       "score            22\n",
       "dtype: int64"
      ]
     },
     "execution_count": 65,
     "metadata": {},
     "output_type": "execute_result"
    }
   ],
   "source": [
    "matched_df[matched_df['score'] < 40].count()"
   ]
  },
  {
   "cell_type": "code",
   "execution_count": 44,
   "metadata": {},
   "outputs": [
    {
     "name": "stdout",
     "output_type": "stream",
     "text": [
      "name         Vereniging van Eigenaars Tuinkade I (Tuinkade ...\n",
      "norm_name    vereniging eigenaars tuinkade i tuinkade 2 32 ...\n",
      "Name: 6351, dtype: object\n"
     ]
    }
   ],
   "source": [
    "df_companies[['name', 'norm_name']].iloc[6351]"
   ]
  },
  {
   "cell_type": "code",
   "execution_count": 46,
   "metadata": {},
   "outputs": [
    {
     "data": {
      "text/plain": [
       "title         טמבור - הצבע של ישראל | מערכות צבע מתקדמות | ח...\n",
       "norm_title    טמבור הצבע של ישראל מערכות צבע מתקדמות חומרי ג...\n",
       "Name: 1197, dtype: object"
      ]
     },
     "execution_count": 46,
     "metadata": {},
     "output_type": "execute_result"
    }
   ],
   "source": [
    "df_scraped_OK[['title', 'norm_title']].iloc[855]"
   ]
  },
  {
   "cell_type": "code",
   "execution_count": 47,
   "metadata": {},
   "outputs": [
    {
     "data": {
      "text/plain": [
       "title         Аренда сервера. Виртуальные и выделенные серверы\n",
       "norm_title     аренда сервера виртуальные и выделенные серверы\n",
       "Name: 5778, dtype: object"
      ]
     },
     "execution_count": 47,
     "metadata": {},
     "output_type": "execute_result"
    }
   ],
   "source": [
    "df_scraped_OK[['title', 'norm_title']].iloc[4036]"
   ]
  },
  {
   "cell_type": "code",
   "execution_count": 64,
   "metadata": {},
   "outputs": [
    {
     "name": "stdout",
     "output_type": "stream",
     "text": [
      "title         Dejavu Cars ''Because standard isn't enough'' WWW.DEJAVUCARS.EU - Dejavu Cars ''Because standard isn't enough'' WWW.DEJAVUCARS.EU\n",
      "norm_title                    dejavu cars because standard isnt enough wwwdejavucarseu dejavu cars because standard isnt enough wwwdejavucarseu\n",
      "Name: 333, dtype: object\n",
      "name         Vereniging van Eigenaars Winkelcentrum Ridderhof I aan de Ridderhof en Jan Steenstraat te\n",
      "norm_name                 vereniging eigenaars winkelcentrum ridderhof i aan ridderhof jan steenstraat\n",
      "Name: 2381, dtype: object\n"
     ]
    }
   ],
   "source": [
    "pd.set_option('display.max_colwidth', None)\n",
    "print(df_scraped_OK[['title', 'norm_title']].iloc[245])\n",
    "print(df_companies[['name', 'norm_name']].iloc[2381])"
   ]
  },
  {
   "cell_type": "code",
   "execution_count": 66,
   "metadata": {},
   "outputs": [
    {
     "data": {
      "text/plain": [
       "13.447537473233403"
      ]
     },
     "execution_count": 66,
     "metadata": {},
     "output_type": "execute_result"
    }
   ],
   "source": [
    "len(matched_df[matched_df['score'] < 50]) / len(matched_df) * 100"
   ]
  },
  {
   "cell_type": "markdown",
   "metadata": {},
   "source": [
    "There seem to be issues with geting different languages. Some sites don't have english option available, matching between languages gives out bad results.  \n",
    "Possible modification is adding a translation method to first translate all date to the same language, then match.\n",
    "Even then, bad matches seem to be a low percentage of overall data, 22 have less than 40 score. 50 score is already giving correct results\n",
    "\n",
    "Dropping bad matches and keeping only unique matches with best score"
   ]
  },
  {
   "cell_type": "code",
   "execution_count": 68,
   "metadata": {},
   "outputs": [],
   "source": [
    "df_matched_maxScore = matched_df.loc[matched_df.groupby('company_index')['score'].idxmax()]"
   ]
  },
  {
   "cell_type": "code",
   "execution_count": 78,
   "metadata": {},
   "outputs": [
    {
     "data": {
      "text/plain": [
       "3875"
      ]
     },
     "execution_count": 78,
     "metadata": {},
     "output_type": "execute_result"
    }
   ],
   "source": [
    "matched_df['company_index'].nunique()"
   ]
  },
  {
   "cell_type": "code",
   "execution_count": 91,
   "metadata": {},
   "outputs": [
    {
     "data": {
      "text/html": [
       "<div>\n",
       "<style scoped>\n",
       "    .dataframe tbody tr th:only-of-type {\n",
       "        vertical-align: middle;\n",
       "    }\n",
       "\n",
       "    .dataframe tbody tr th {\n",
       "        vertical-align: top;\n",
       "    }\n",
       "\n",
       "    .dataframe thead th {\n",
       "        text-align: right;\n",
       "    }\n",
       "</style>\n",
       "<table border=\"1\" class=\"dataframe\">\n",
       "  <thead>\n",
       "    <tr style=\"text-align: right;\">\n",
       "      <th></th>\n",
       "      <th>company_index</th>\n",
       "      <th>count</th>\n",
       "    </tr>\n",
       "  </thead>\n",
       "  <tbody>\n",
       "    <tr>\n",
       "      <th>2378</th>\n",
       "      <td>5981</td>\n",
       "      <td>349</td>\n",
       "    </tr>\n",
       "    <tr>\n",
       "      <th>2249</th>\n",
       "      <td>5625</td>\n",
       "      <td>98</td>\n",
       "    </tr>\n",
       "    <tr>\n",
       "      <th>1198</th>\n",
       "      <td>2942</td>\n",
       "      <td>78</td>\n",
       "    </tr>\n",
       "    <tr>\n",
       "      <th>3816</th>\n",
       "      <td>9857</td>\n",
       "      <td>72</td>\n",
       "    </tr>\n",
       "    <tr>\n",
       "      <th>1635</th>\n",
       "      <td>4076</td>\n",
       "      <td>63</td>\n",
       "    </tr>\n",
       "    <tr>\n",
       "      <th>...</th>\n",
       "      <td>...</td>\n",
       "      <td>...</td>\n",
       "    </tr>\n",
       "    <tr>\n",
       "      <th>3845</th>\n",
       "      <td>9939</td>\n",
       "      <td>1</td>\n",
       "    </tr>\n",
       "    <tr>\n",
       "      <th>3846</th>\n",
       "      <td>9941</td>\n",
       "      <td>1</td>\n",
       "    </tr>\n",
       "    <tr>\n",
       "      <th>3849</th>\n",
       "      <td>9950</td>\n",
       "      <td>1</td>\n",
       "    </tr>\n",
       "    <tr>\n",
       "      <th>3851</th>\n",
       "      <td>9954</td>\n",
       "      <td>1</td>\n",
       "    </tr>\n",
       "    <tr>\n",
       "      <th>3852</th>\n",
       "      <td>9955</td>\n",
       "      <td>1</td>\n",
       "    </tr>\n",
       "  </tbody>\n",
       "</table>\n",
       "<p>3875 rows × 2 columns</p>\n",
       "</div>"
      ],
      "text/plain": [
       "      company_index  count\n",
       "2378           5981    349\n",
       "2249           5625     98\n",
       "1198           2942     78\n",
       "3816           9857     72\n",
       "1635           4076     63\n",
       "...             ...    ...\n",
       "3845           9939      1\n",
       "3846           9941      1\n",
       "3849           9950      1\n",
       "3851           9954      1\n",
       "3852           9955      1\n",
       "\n",
       "[3875 rows x 2 columns]"
      ]
     },
     "execution_count": 91,
     "metadata": {},
     "output_type": "execute_result"
    }
   ],
   "source": [
    "matched_df.groupby('company_index').size().reset_index(name='count').sort_values(by='count', ascending=False)"
   ]
  },
  {
   "cell_type": "code",
   "execution_count": 86,
   "metadata": {},
   "outputs": [
    {
     "name": "stdout",
     "output_type": "stream",
     "text": [
      "name         Danone\n",
      "norm_name    danone\n",
      "Name: 5981, dtype: object\n"
     ]
    }
   ],
   "source": [
    "print(df_companies[['name', 'norm_name']].iloc[5981])"
   ]
  },
  {
   "cell_type": "markdown",
   "metadata": {},
   "source": [
    "It seems some company names are matching with too many scraped titles, this is an undesired behaviour, could try to remove values from the company names pool after matching to try and reduce this effect"
   ]
  },
  {
   "cell_type": "code",
   "execution_count": 171,
   "metadata": {},
   "outputs": [],
   "source": [
    "# Merge the matches with the scraped data and the original companies database\n",
    "result = df_scraped_OK.merge(df_matched_maxScore, left_index=True, right_on='scraped_index')\n",
    "result = result.merge(df_companies, left_on='company_index', right_index=True, suffixes=('_scraped', '_company'))\n"
   ]
  },
  {
   "cell_type": "code",
   "execution_count": 174,
   "metadata": {},
   "outputs": [
    {
     "data": {
      "text/html": [
       "<div>\n",
       "<style scoped>\n",
       "    .dataframe tbody tr th:only-of-type {\n",
       "        vertical-align: middle;\n",
       "    }\n",
       "\n",
       "    .dataframe tbody tr th {\n",
       "        vertical-align: top;\n",
       "    }\n",
       "\n",
       "    .dataframe thead th {\n",
       "        text-align: right;\n",
       "    }\n",
       "</style>\n",
       "<table border=\"1\" class=\"dataframe\">\n",
       "  <thead>\n",
       "    <tr style=\"text-align: right;\">\n",
       "      <th></th>\n",
       "      <th>url</th>\n",
       "      <th>unique_id</th>\n",
       "    </tr>\n",
       "  </thead>\n",
       "  <tbody>\n",
       "    <tr>\n",
       "      <th>0</th>\n",
       "      <td>https://beeldenbouwers.nl</td>\n",
       "      <td>516268062</td>\n",
       "    </tr>\n",
       "    <tr>\n",
       "      <th>1</th>\n",
       "      <td>https://gjgmedia.nl</td>\n",
       "      <td>601569922</td>\n",
       "    </tr>\n",
       "    <tr>\n",
       "      <th>2</th>\n",
       "      <td>https://henkvdzanden.nl</td>\n",
       "      <td>524178421</td>\n",
       "    </tr>\n",
       "    <tr>\n",
       "      <th>6</th>\n",
       "      <td>https://podotherapierotterdam.nl</td>\n",
       "      <td>605740923</td>\n",
       "    </tr>\n",
       "    <tr>\n",
       "      <th>7</th>\n",
       "      <td>https://www.issos.nl/</td>\n",
       "      <td>497161776</td>\n",
       "    </tr>\n",
       "    <tr>\n",
       "      <th>...</th>\n",
       "      <td>...</td>\n",
       "      <td>...</td>\n",
       "    </tr>\n",
       "    <tr>\n",
       "      <th>6998</th>\n",
       "      <td>https://www.out-smart.eu/</td>\n",
       "      <td>600241291</td>\n",
       "    </tr>\n",
       "    <tr>\n",
       "      <th>6999</th>\n",
       "      <td>https://eosmaritime.com</td>\n",
       "      <td>603511814</td>\n",
       "    </tr>\n",
       "    <tr>\n",
       "      <th>7001</th>\n",
       "      <td>https://www.a3architecten.com/</td>\n",
       "      <td>603823102</td>\n",
       "    </tr>\n",
       "    <tr>\n",
       "      <th>7003</th>\n",
       "      <td>https://kadoburo.nl</td>\n",
       "      <td>514393675</td>\n",
       "    </tr>\n",
       "    <tr>\n",
       "      <th>7004</th>\n",
       "      <td>https://polevents.nl</td>\n",
       "      <td>602555678</td>\n",
       "    </tr>\n",
       "  </tbody>\n",
       "</table>\n",
       "<p>3875 rows × 2 columns</p>\n",
       "</div>"
      ],
      "text/plain": [
       "                                   url  unique_id\n",
       "0            https://beeldenbouwers.nl  516268062\n",
       "1                  https://gjgmedia.nl  601569922\n",
       "2              https://henkvdzanden.nl  524178421\n",
       "6     https://podotherapierotterdam.nl  605740923\n",
       "7                https://www.issos.nl/  497161776\n",
       "...                                ...        ...\n",
       "6998         https://www.out-smart.eu/  600241291\n",
       "6999           https://eosmaritime.com  603511814\n",
       "7001    https://www.a3architecten.com/  603823102\n",
       "7003               https://kadoburo.nl  514393675\n",
       "7004              https://polevents.nl  602555678\n",
       "\n",
       "[3875 rows x 2 columns]"
      ]
     },
     "execution_count": 174,
     "metadata": {},
     "output_type": "execute_result"
    }
   ],
   "source": [
    "result[['url', 'unique_id']]"
   ]
  },
  {
   "cell_type": "code",
   "execution_count": 175,
   "metadata": {},
   "outputs": [],
   "source": [
    "result.to_csv('Result.csv')"
   ]
  },
  {
   "cell_type": "markdown",
   "metadata": {},
   "source": [
    "# Conclusion"
   ]
  },
  {
   "cell_type": "markdown",
   "metadata": {},
   "source": [
    "To Do: \n",
    "- Improve the fuzzy matching to remove good matches and reduce number of repetitive matches\n",
    "- Improve on matching using phone and copyright info\n",
    "- Improve on scraping for phone info using regex or other improvements"
   ]
  },
  {
   "cell_type": "markdown",
   "metadata": {},
   "source": []
  }
 ],
 "metadata": {
  "kernelspec": {
   "display_name": "venv",
   "language": "python",
   "name": "python3"
  },
  "language_info": {
   "codemirror_mode": {
    "name": "ipython",
    "version": 3
   },
   "file_extension": ".py",
   "mimetype": "text/x-python",
   "name": "python",
   "nbconvert_exporter": "python",
   "pygments_lexer": "ipython3",
   "version": "3.13.0"
  }
 },
 "nbformat": 4,
 "nbformat_minor": 2
}
